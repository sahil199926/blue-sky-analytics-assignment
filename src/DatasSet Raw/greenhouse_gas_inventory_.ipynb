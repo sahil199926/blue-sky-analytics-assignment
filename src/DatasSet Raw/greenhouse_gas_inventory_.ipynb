{
 "cells": [
  {
   "cell_type": "code",
   "execution_count": 1,
   "id": "8779fe2a",
   "metadata": {},
   "outputs": [],
   "source": [
    "import pandas as pd\n",
    "import numpy as np\n",
    "import json"
   ]
  },
  {
   "cell_type": "code",
   "execution_count": 2,
   "id": "155a0695",
   "metadata": {},
   "outputs": [],
   "source": [
    "data= pd.read_csv(\"D:\\\\Personal Projects\\\\blueskyanalyticsassignment\\\\src\\\\DatasSet Raw\\\\greenhouse_gas_inventory_data_data.csv\")"
   ]
  },
  {
   "cell_type": "code",
   "execution_count": 3,
   "id": "0eb3ab64",
   "metadata": {},
   "outputs": [
    {
     "data": {
      "text/plain": [
       "10"
      ]
     },
     "execution_count": 3,
     "metadata": {},
     "output_type": "execute_result"
    }
   ],
   "source": [
    "len(data.category.unique())\n",
    "# 10 unique categories"
   ]
  },
  {
   "cell_type": "code",
   "execution_count": 4,
   "id": "112d60b6",
   "metadata": {},
   "outputs": [
    {
     "data": {
      "text/plain": [
       "43"
      ]
     },
     "execution_count": 4,
     "metadata": {},
     "output_type": "execute_result"
    }
   ],
   "source": [
    "len(data.country_or_area.unique())\n",
    "# 43 unique country"
   ]
  },
  {
   "cell_type": "code",
   "execution_count": 5,
   "id": "d599ca11",
   "metadata": {},
   "outputs": [
    {
     "data": {
      "text/plain": [
       "array(['Australia', 'Austria', 'Belarus', 'Belgium', 'Bulgaria', 'Canada',\n",
       "       'Croatia', 'Cyprus', 'Czech Republic', 'Denmark', 'Estonia',\n",
       "       'European Union', 'Finland', 'France', 'Germany', 'Greece',\n",
       "       'Hungary', 'Iceland', 'Ireland', 'Italy', 'Japan', 'Latvia',\n",
       "       'Liechtenstein', 'Lithuania', 'Luxembourg', 'Malta', 'Monaco',\n",
       "       'Netherlands', 'New Zealand', 'Norway', 'Poland', 'Portugal',\n",
       "       'Romania', 'Russia', 'Slovakia', 'Slovenia', 'Spain', 'Sweden',\n",
       "       'Switzerland', 'Turkey', 'Ukraine', 'United Kingdom',\n",
       "       'United States of America'], dtype=object)"
      ]
     },
     "execution_count": 5,
     "metadata": {},
     "output_type": "execute_result"
    }
   ],
   "source": [
    "data.country_or_area.unique()\n",
    "#country name\n",
    "#Russian fredration is changed to Russia"
   ]
  },
  {
   "cell_type": "code",
   "execution_count": 6,
   "id": "43661126",
   "metadata": {},
   "outputs": [
    {
     "data": {
      "text/plain": [
       "array(['co2_without_land', 'ghgs', 'ghgs_without_land', 'hfcs',\n",
       "       'ch4_without_land', 'nnf3', 'n2o_without_land', 'pfcs', 'sf6',\n",
       "       'mix_of_hfcs_and_pfcs'], dtype=object)"
      ]
     },
     "execution_count": 6,
     "metadata": {},
     "output_type": "execute_result"
    }
   ],
   "source": [
    "data.category.unique()\n",
    "#category name after shorten"
   ]
  },
  {
   "cell_type": "code",
   "execution_count": 7,
   "id": "7fd20bac",
   "metadata": {},
   "outputs": [
    {
     "name": "stdout",
     "output_type": "stream",
     "text": [
      "<class 'pandas.core.frame.DataFrame'>\n",
      "RangeIndex: 8406 entries, 0 to 8405\n",
      "Data columns (total 4 columns):\n",
      " #   Column           Non-Null Count  Dtype  \n",
      "---  ------           --------------  -----  \n",
      " 0   country_or_area  8406 non-null   object \n",
      " 1   year             8406 non-null   int64  \n",
      " 2   value            8406 non-null   float64\n",
      " 3   category         8406 non-null   object \n",
      "dtypes: float64(1), int64(1), object(2)\n",
      "memory usage: 262.8+ KB\n"
     ]
    }
   ],
   "source": [
    "data.info()"
   ]
  },
  {
   "cell_type": "code",
   "execution_count": 8,
   "id": "f4fa04b2",
   "metadata": {},
   "outputs": [],
   "source": [
    "#changing data type of year to string\n",
    "data.year=data.year.astype(str)"
   ]
  },
  {
   "cell_type": "code",
   "execution_count": 9,
   "id": "b9dbda25",
   "metadata": {},
   "outputs": [
    {
     "name": "stdout",
     "output_type": "stream",
     "text": [
      "<class 'pandas.core.frame.DataFrame'>\n",
      "RangeIndex: 8406 entries, 0 to 8405\n",
      "Data columns (total 4 columns):\n",
      " #   Column           Non-Null Count  Dtype  \n",
      "---  ------           --------------  -----  \n",
      " 0   country_or_area  8406 non-null   object \n",
      " 1   year             8406 non-null   object \n",
      " 2   value            8406 non-null   float64\n",
      " 3   category         8406 non-null   object \n",
      "dtypes: float64(1), object(3)\n",
      "memory usage: 262.8+ KB\n"
     ]
    }
   ],
   "source": [
    "data.info()"
   ]
  },
  {
   "cell_type": "code",
   "execution_count": 10,
   "id": "4e66f0be",
   "metadata": {},
   "outputs": [
    {
     "data": {
      "text/plain": [
       "25"
      ]
     },
     "execution_count": 10,
     "metadata": {},
     "output_type": "execute_result"
    }
   ],
   "source": [
    "len(data.year.unique())\n",
    "#1990-2014"
   ]
  },
  {
   "cell_type": "code",
   "execution_count": 11,
   "id": "8300e548",
   "metadata": {},
   "outputs": [
    {
     "data": {
      "text/html": [
       "<div>\n",
       "<style scoped>\n",
       "    .dataframe tbody tr th:only-of-type {\n",
       "        vertical-align: middle;\n",
       "    }\n",
       "\n",
       "    .dataframe tbody tr th {\n",
       "        vertical-align: top;\n",
       "    }\n",
       "\n",
       "    .dataframe thead th {\n",
       "        text-align: right;\n",
       "    }\n",
       "</style>\n",
       "<table border=\"1\" class=\"dataframe\">\n",
       "  <thead>\n",
       "    <tr style=\"text-align: right;\">\n",
       "      <th></th>\n",
       "      <th>country_or_area</th>\n",
       "      <th>year</th>\n",
       "      <th>value</th>\n",
       "      <th>category</th>\n",
       "    </tr>\n",
       "  </thead>\n",
       "  <tbody>\n",
       "    <tr>\n",
       "      <th>0</th>\n",
       "      <td>True</td>\n",
       "      <td>True</td>\n",
       "      <td>True</td>\n",
       "      <td>True</td>\n",
       "    </tr>\n",
       "    <tr>\n",
       "      <th>1</th>\n",
       "      <td>True</td>\n",
       "      <td>True</td>\n",
       "      <td>True</td>\n",
       "      <td>True</td>\n",
       "    </tr>\n",
       "    <tr>\n",
       "      <th>2</th>\n",
       "      <td>True</td>\n",
       "      <td>True</td>\n",
       "      <td>True</td>\n",
       "      <td>True</td>\n",
       "    </tr>\n",
       "    <tr>\n",
       "      <th>3</th>\n",
       "      <td>True</td>\n",
       "      <td>True</td>\n",
       "      <td>True</td>\n",
       "      <td>True</td>\n",
       "    </tr>\n",
       "    <tr>\n",
       "      <th>4</th>\n",
       "      <td>True</td>\n",
       "      <td>True</td>\n",
       "      <td>True</td>\n",
       "      <td>True</td>\n",
       "    </tr>\n",
       "    <tr>\n",
       "      <th>...</th>\n",
       "      <td>...</td>\n",
       "      <td>...</td>\n",
       "      <td>...</td>\n",
       "      <td>...</td>\n",
       "    </tr>\n",
       "    <tr>\n",
       "      <th>8401</th>\n",
       "      <td>True</td>\n",
       "      <td>True</td>\n",
       "      <td>True</td>\n",
       "      <td>True</td>\n",
       "    </tr>\n",
       "    <tr>\n",
       "      <th>8402</th>\n",
       "      <td>True</td>\n",
       "      <td>True</td>\n",
       "      <td>True</td>\n",
       "      <td>True</td>\n",
       "    </tr>\n",
       "    <tr>\n",
       "      <th>8403</th>\n",
       "      <td>True</td>\n",
       "      <td>True</td>\n",
       "      <td>True</td>\n",
       "      <td>True</td>\n",
       "    </tr>\n",
       "    <tr>\n",
       "      <th>8404</th>\n",
       "      <td>True</td>\n",
       "      <td>True</td>\n",
       "      <td>True</td>\n",
       "      <td>True</td>\n",
       "    </tr>\n",
       "    <tr>\n",
       "      <th>8405</th>\n",
       "      <td>True</td>\n",
       "      <td>True</td>\n",
       "      <td>True</td>\n",
       "      <td>True</td>\n",
       "    </tr>\n",
       "  </tbody>\n",
       "</table>\n",
       "<p>8406 rows × 4 columns</p>\n",
       "</div>"
      ],
      "text/plain": [
       "      country_or_area  year  value  category\n",
       "0                True  True   True      True\n",
       "1                True  True   True      True\n",
       "2                True  True   True      True\n",
       "3                True  True   True      True\n",
       "4                True  True   True      True\n",
       "...               ...   ...    ...       ...\n",
       "8401             True  True   True      True\n",
       "8402             True  True   True      True\n",
       "8403             True  True   True      True\n",
       "8404             True  True   True      True\n",
       "8405             True  True   True      True\n",
       "\n",
       "[8406 rows x 4 columns]"
      ]
     },
     "execution_count": 11,
     "metadata": {},
     "output_type": "execute_result"
    }
   ],
   "source": [
    "data.notnull()\n",
    "#No null"
   ]
  },
  {
   "cell_type": "code",
   "execution_count": 12,
   "id": "b088e9e5",
   "metadata": {},
   "outputs": [
    {
     "data": {
      "text/html": [
       "<div>\n",
       "<style scoped>\n",
       "    .dataframe tbody tr th:only-of-type {\n",
       "        vertical-align: middle;\n",
       "    }\n",
       "\n",
       "    .dataframe tbody tr th {\n",
       "        vertical-align: top;\n",
       "    }\n",
       "\n",
       "    .dataframe thead th {\n",
       "        text-align: right;\n",
       "    }\n",
       "</style>\n",
       "<table border=\"1\" class=\"dataframe\">\n",
       "  <thead>\n",
       "    <tr style=\"text-align: right;\">\n",
       "      <th></th>\n",
       "      <th>country_or_area</th>\n",
       "      <th>year</th>\n",
       "      <th>value</th>\n",
       "      <th>category</th>\n",
       "    </tr>\n",
       "  </thead>\n",
       "  <tbody>\n",
       "    <tr>\n",
       "      <th>0</th>\n",
       "      <td>Australia</td>\n",
       "      <td>2014</td>\n",
       "      <td>393126.947000</td>\n",
       "      <td>co2_without_land</td>\n",
       "    </tr>\n",
       "    <tr>\n",
       "      <th>1</th>\n",
       "      <td>Australia</td>\n",
       "      <td>2013</td>\n",
       "      <td>396913.936500</td>\n",
       "      <td>co2_without_land</td>\n",
       "    </tr>\n",
       "    <tr>\n",
       "      <th>2</th>\n",
       "      <td>Australia</td>\n",
       "      <td>2012</td>\n",
       "      <td>406462.847700</td>\n",
       "      <td>co2_without_land</td>\n",
       "    </tr>\n",
       "    <tr>\n",
       "      <th>3</th>\n",
       "      <td>Australia</td>\n",
       "      <td>2011</td>\n",
       "      <td>403705.528300</td>\n",
       "      <td>co2_without_land</td>\n",
       "    </tr>\n",
       "    <tr>\n",
       "      <th>4</th>\n",
       "      <td>Australia</td>\n",
       "      <td>2010</td>\n",
       "      <td>406200.993200</td>\n",
       "      <td>co2_without_land</td>\n",
       "    </tr>\n",
       "    <tr>\n",
       "      <th>...</th>\n",
       "      <td>...</td>\n",
       "      <td>...</td>\n",
       "      <td>...</td>\n",
       "      <td>...</td>\n",
       "    </tr>\n",
       "    <tr>\n",
       "      <th>8401</th>\n",
       "      <td>United States of America</td>\n",
       "      <td>1994</td>\n",
       "      <td>593.222570</td>\n",
       "      <td>mix_of_hfcs_and_pfcs</td>\n",
       "    </tr>\n",
       "    <tr>\n",
       "      <th>8402</th>\n",
       "      <td>United States of America</td>\n",
       "      <td>1993</td>\n",
       "      <td>586.939752</td>\n",
       "      <td>mix_of_hfcs_and_pfcs</td>\n",
       "    </tr>\n",
       "    <tr>\n",
       "      <th>8403</th>\n",
       "      <td>United States of America</td>\n",
       "      <td>1992</td>\n",
       "      <td>574.414624</td>\n",
       "      <td>mix_of_hfcs_and_pfcs</td>\n",
       "    </tr>\n",
       "    <tr>\n",
       "      <th>8404</th>\n",
       "      <td>United States of America</td>\n",
       "      <td>1991</td>\n",
       "      <td>566.900968</td>\n",
       "      <td>mix_of_hfcs_and_pfcs</td>\n",
       "    </tr>\n",
       "    <tr>\n",
       "      <th>8405</th>\n",
       "      <td>United States of America</td>\n",
       "      <td>1990</td>\n",
       "      <td>293.205663</td>\n",
       "      <td>mix_of_hfcs_and_pfcs</td>\n",
       "    </tr>\n",
       "  </tbody>\n",
       "</table>\n",
       "<p>8406 rows × 4 columns</p>\n",
       "</div>"
      ],
      "text/plain": [
       "               country_or_area  year          value              category\n",
       "0                    Australia  2014  393126.947000      co2_without_land\n",
       "1                    Australia  2013  396913.936500      co2_without_land\n",
       "2                    Australia  2012  406462.847700      co2_without_land\n",
       "3                    Australia  2011  403705.528300      co2_without_land\n",
       "4                    Australia  2010  406200.993200      co2_without_land\n",
       "...                        ...   ...            ...                   ...\n",
       "8401  United States of America  1994     593.222570  mix_of_hfcs_and_pfcs\n",
       "8402  United States of America  1993     586.939752  mix_of_hfcs_and_pfcs\n",
       "8403  United States of America  1992     574.414624  mix_of_hfcs_and_pfcs\n",
       "8404  United States of America  1991     566.900968  mix_of_hfcs_and_pfcs\n",
       "8405  United States of America  1990     293.205663  mix_of_hfcs_and_pfcs\n",
       "\n",
       "[8406 rows x 4 columns]"
      ]
     },
     "execution_count": 12,
     "metadata": {},
     "output_type": "execute_result"
    }
   ],
   "source": [
    "data"
   ]
  },
  {
   "cell_type": "markdown",
   "id": "9521d6dc",
   "metadata": {},
   "source": [
    "# creating the best format based on the feature mention in assignment"
   ]
  },
  {
   "cell_type": "markdown",
   "id": "6fae455d",
   "metadata": {},
   "source": [
    "\n",
    "\n",
    " creating the best format based on the so that the time complexity in Frontend can be minimise\n",
    " Post completiing the Dataset will look like \n",
    " \n",
    "{\n",
    "'country1': {\n",
    "\n",
    "    cat1:{\n",
    "       year1:value,\n",
    "       year2:value\n",
    "       },\n",
    "       \n",
    "    cat2:{\n",
    "       year1:value,\n",
    "       year2:value\n",
    "         }\n",
    "     \n",
    "   },\n",
    "    \n",
    "'country2': {\n",
    "\n",
    "    cat1:{\n",
    "       year1:value,\n",
    "       year2:value\n",
    "       },\n",
    "    cat2:{\n",
    "       year1:value,\n",
    "       year2:value\n",
    "       },\n",
    "   },\n",
    "   \n",
    "}\n"
   ]
  },
  {
   "cell_type": "markdown",
   "id": "389d00c0",
   "metadata": {},
   "source": [
    "# Script"
   ]
  },
  {
   "cell_type": "code",
   "execution_count": 13,
   "id": "924a4bbe",
   "metadata": {},
   "outputs": [],
   "source": [
    "JsonDict={}\n",
    "for i in data.country_or_area.unique(): #every unique country\n",
    "    JsonDict[i]={}\n",
    "    tempcat={}\n",
    "    for j in data.category.unique(): # will have unique categories\n",
    "        tempcat[j]={}\n",
    "        tempyear={}\n",
    "        for k in data.year.unique(): # every unique category will have 25 unique year with value corrospoindin to it\n",
    "            filter1=data.country_or_area==i\n",
    "            filter3=data.category==j\n",
    "            filter2=data.year==k\n",
    "            apply=data.where(filter1 & filter2&filter3)\n",
    "            apply.dropna(inplace=True)\n",
    "            tempyear[k]=0\n",
    "            tempyear[k]= apply.value.to_numpy()[0] if len(apply.value.to_numpy())>0 else 0\n",
    "        tempcat[j]=tempyear\n",
    "    JsonDict[i]=tempcat"
   ]
  },
  {
   "cell_type": "code",
   "execution_count": 14,
   "id": "a3cbe156",
   "metadata": {},
   "outputs": [
    {
     "data": {
      "text/plain": [
       "43"
      ]
     },
     "execution_count": 14,
     "metadata": {},
     "output_type": "execute_result"
    }
   ],
   "source": [
    "len(JsonDict)\n"
   ]
  },
  {
   "cell_type": "markdown",
   "id": "f9d1db5b",
   "metadata": {},
   "source": [
    "convert dictnory to JSON"
   ]
  },
  {
   "cell_type": "code",
   "execution_count": 15,
   "id": "629c7543",
   "metadata": {},
   "outputs": [],
   "source": [
    "\n",
    "a=json.dumps(JsonDict)"
   ]
  },
  {
   "cell_type": "code",
   "execution_count": 16,
   "id": "dfbdbf76",
   "metadata": {},
   "outputs": [],
   "source": [
    "#save JSON file\n",
    "with open(\"greenhouse_gas_inventory_.json\", \"w\") as outfile: \n",
    "    json.dump(json.loads(a), outfile)"
   ]
  },
  {
   "cell_type": "markdown",
   "id": "00582d16",
   "metadata": {},
   "source": [
    " ------------------------------------------------------------------thats all :)---------------------------------------------------------------"
   ]
  }
 ],
 "metadata": {
  "kernelspec": {
   "display_name": "Python 3",
   "language": "python",
   "name": "python3"
  },
  "language_info": {
   "codemirror_mode": {
    "name": "ipython",
    "version": 3
   },
   "file_extension": ".py",
   "mimetype": "text/x-python",
   "name": "python",
   "nbconvert_exporter": "python",
   "pygments_lexer": "ipython3",
   "version": "3.9.2"
  }
 },
 "nbformat": 4,
 "nbformat_minor": 5
}
